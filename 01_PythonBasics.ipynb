{
  "nbformat": 4,
  "nbformat_minor": 0,
  "metadata": {
    "kernelspec": {
      "display_name": "Python 3",
      "language": "python",
      "name": "python3"
    },
    "language_info": {
      "codemirror_mode": {
        "name": "ipython",
        "version": 3
      },
      "file_extension": ".py",
      "mimetype": "text/x-python",
      "name": "python",
      "nbconvert_exporter": "python",
      "pygments_lexer": "ipython3",
      "version": "3.8.7"
    },
    "colab": {
      "name": "A_01_PythonBasics_tr.ipynb adlı not defterinin kopyası",
      "provenance": []
    }
  },
  "cells": [
    {
      "cell_type": "markdown",
      "metadata": {
        "id": "MiAwx3g_3cgR"
      },
      "source": [
        "**(1)** Adınızı ve Soyadınızı tek satırda yazan bir kod yazın."
      ]
    },
    {
      "cell_type": "code",
      "metadata": {
        "id": "33HugUeK3cgU",
        "colab": {
          "base_uri": "https://localhost:8080/"
        },
        "outputId": "9a05cfc3-2c7a-4149-f112-a0581c57cdbe"
      },
      "source": [
        "print(\"Buse\", end=\" \")\n",
        "print(\"Özdil\", end=\" \")"
      ],
      "execution_count": null,
      "outputs": [
        {
          "output_type": "stream",
          "name": "stdout",
          "text": [
            "Buse Özdil "
          ]
        }
      ]
    },
    {
      "cell_type": "markdown",
      "metadata": {
        "id": "4JXpnSPQ3cgU"
      },
      "source": [
        "**(2)** Tek bir `print()` komutu kullanarak adınızı ve soyadınızı iki ayrı satırda gösteren bir kod yazın."
      ]
    },
    {
      "cell_type": "code",
      "metadata": {
        "id": "Jh_XW-WT3cgV",
        "colab": {
          "base_uri": "https://localhost:8080/"
        },
        "outputId": "0c36a9ee-98d0-4248-f4e4-4003a6527dae"
      },
      "source": [
        "print(\"\"\"Buse\n",
        "Özdil\"\"\")"
      ],
      "execution_count": null,
      "outputs": [
        {
          "output_type": "stream",
          "name": "stdout",
          "text": [
            "Buse\n",
            "Özdil\n"
          ]
        }
      ]
    },
    {
      "cell_type": "markdown",
      "metadata": {
        "id": "FRF3bFXD3cgW"
      },
      "source": [
        "**(3)** Aşağıdaki metni yazdıran bir komut yazın. Tırnak işaretlerine dikkat edin. Bunların çıktıda görünmesi gerekiyor!\n",
        "\n",
        "    `Bu haftaki yarışta 1'inci olan kişi sezonu \"şampiyon\" olarak tamamlayacak`"
      ]
    },
    {
      "cell_type": "code",
      "metadata": {
        "id": "moYbPBgj3cgW",
        "colab": {
          "base_uri": "https://localhost:8080/"
        },
        "outputId": "39611198-adb5-4f46-bc5a-b031821bed00"
      },
      "source": [
        "print(\"\"\"'Bu haftaki yarışta 1'inci olan kişi sezonu \"şampiyon\" olarak tamamlayacak.'\"\"\")"
      ],
      "execution_count": null,
      "outputs": [
        {
          "output_type": "stream",
          "name": "stdout",
          "text": [
            "'Bu haftaki yarışta 1'inci olan kişi sezonu \"şampiyon\" olarak tamamlayacak.'\n"
          ]
        }
      ]
    }
  ]
}
