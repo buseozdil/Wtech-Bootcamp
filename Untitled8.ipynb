{
 "cells": [
  {
   "cell_type": "code",
   "execution_count": null,
   "id": "7ee6cac4",
   "metadata": {},
   "outputs": [],
   "source": [
    "1- Keşifsel veri analizinin amacı nedir?\n",
    "->Herhangi bir varsayımda bulunmadan önce verilere bakmanıza yardımcı olmaktır.\n",
    "*****************************************************************************************\n",
    "\n",
    "2- Bir e-ticaret şirketinin ürünlerine ait müşteri yorumlarını içeren bir veri kümesi üzerinde çalıştığınızı farz edin. Şirketin web sitesi aracılığıyla toplanan müşteri yorumları içeriğinin olumlu ya da olumsuz olmasına göre 1 ila 5 arasında derecelendirilmiştir.\n",
    "\n",
    "    a. Bu ham veride ne tür problemlerle karşılaşmayı beklersiniz?\n",
    "-> Özensiz doldurulmuş formlarda tüm cevapların 1 veya tüm cevapların 5 olması analizimi zorlaştırır.\n",
    "*****************************************************************************************\n",
    "    \n",
    "    b. Göreviniz müşterilerin yorumlarının olumlu yada olumsuz olduğunu ortaya çıkaran özellikleri belirlemek olsaydı nasıl bir yaklaşımda bulunur ve bunun için hangi metodları kullanırdınız?\n",
    " -> Kritik cevaplarda faydalı özellikleri seçer ve incelerdim.    \n",
    "*****************************************************************************************\n",
    "\n",
    "    c. Ham veriden çıkarılabilecek yararlı özellikleri neler olabilir? Bu verilere nasıl ulaşılabilirsiniz ve bunların faydalı olup olmayacağını nasıl anlayabilirsiniz?\n",
    "-> Kritik cevaplar 1 puan verilmiş veya 5 puan verilmiş cevaplar olabilir. Bu cevapları incelerdim."
   ]
  }
 ],
 "metadata": {
  "kernelspec": {
   "display_name": "Python 3",
   "language": "python",
   "name": "python3"
  },
  "language_info": {
   "codemirror_mode": {
    "name": "ipython",
    "version": 3
   },
   "file_extension": ".py",
   "mimetype": "text/x-python",
   "name": "python",
   "nbconvert_exporter": "python",
   "pygments_lexer": "ipython3",
   "version": "3.8.8"
  }
 },
 "nbformat": 4,
 "nbformat_minor": 5
}
