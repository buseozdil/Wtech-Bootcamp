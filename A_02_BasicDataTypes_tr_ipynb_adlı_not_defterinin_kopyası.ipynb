{
  "nbformat": 4,
  "nbformat_minor": 0,
  "metadata": {
    "colab": {
      "name": "A_02_BasicDataTypes_tr.ipynb adlı not defterinin kopyası",
      "provenance": [],
      "collapsed_sections": []
    },
    "kernelspec": {
      "display_name": "Python 3",
      "language": "python",
      "name": "python3"
    },
    "language_info": {
      "codemirror_mode": {
        "name": "ipython",
        "version": 3
      },
      "file_extension": ".py",
      "mimetype": "text/x-python",
      "name": "python",
      "nbconvert_exporter": "python",
      "pygments_lexer": "ipython3",
      "version": "3.8.7"
    }
  },
  "cells": [
    {
      "cell_type": "markdown",
      "metadata": {
        "id": "C0hXVOQIObij"
      },
      "source": [
        "**1.** Bitcoin'in iyi kazandırdığı 2017 yılı sonunda yatırım yaptığınızı farz edelim. Günlük ortalama %12 artan bitcoine 1000$ yatırmış olsaydınız bir hafta sonunda paranız ne kadar olurdu? Lütfen problemi Python kullanarak çözün."
      ]
    },
    {
      "cell_type": "code",
      "metadata": {
        "id": "lV9Z_Da4Oxzc",
        "colab": {
          "base_uri": "https://localhost:8080/"
        },
        "outputId": "97e8f495-d715-4070-9382-2e3f068897d6"
      },
      "source": [
        "yatırım = 1000\n",
        "\n",
        "artis = 12\n",
        "\n",
        "hesap = yatırım * (((artis+100)/100)**7)\n",
        "\n",
        "print(hesap)"
      ],
      "execution_count": null,
      "outputs": [
        {
          "output_type": "stream",
          "name": "stdout",
          "text": [
            "2210.6814074060812\n"
          ]
        }
      ]
    },
    {
      "cell_type": "markdown",
      "metadata": {
        "id": "GOILPwQ_OySf"
      },
      "source": [
        "**2.** Tırnak içindeki metni Python ile yazdırın. Ancak rakamlar değişkenlerden gelmeli. Metin uzun olduğu için iki satıra yazmayı düşünebilirsiniz: \n",
        "```\"Hafta başında 1000 dolarlık bitcoin aldığımızda günde ortalama %12 kazançla, bir hafta sonunda 1210.68 dolar kazanırdık\"```"
      ]
    },
    {
      "cell_type": "code",
      "metadata": {
        "id": "UNUmdQO_OyjW",
        "colab": {
          "base_uri": "https://localhost:8080/"
        },
        "outputId": "73060820-c3dd-4749-c2b1-c1f5e03c6048"
      },
      "source": [
        "metin = \"Hafta başında {} dolarlık bitcoin aldığımızda günde ortalama %{} kazançla, bir hafta sonunda {} dolar kazanırdık.\"\n",
        "print(metin.format(yatırım, artis, hesap))"
      ],
      "execution_count": null,
      "outputs": [
        {
          "output_type": "stream",
          "name": "stdout",
          "text": [
            "Hafta başında 1000 dolarlık bitcoin aldığımızda günde ortalama %12 kazançla, bir hafta sonunda 2210.6814074060812 dolar kazanırdık.\n"
          ]
        }
      ]
    },
    {
      "cell_type": "markdown",
      "metadata": {
        "id": "tgPqjVZbXmIo"
      },
      "source": [
        "**(3.)**  Kullanıcıdan sıcaklık değerini Fahrenhiyt cinsinden alıp Celsius nnsinden ekrana yazdıran bir kod yazın. Dönüşüm için aşağıdaki formülü kullanabilirsiniz.\n",
        "$$C = (5/9) * (F - 32)$$\n",
        "\n",
        "    Fahrenheit cinsinden sıcaklığı girin: \n",
        "    kullanıcı --> 26\n",
        "    Çıktı --> Sıcaklık (C) : -3.33"
      ]
    },
    {
      "cell_type": "code",
      "metadata": {
        "id": "rp7CGKhlXmIo",
        "colab": {
          "base_uri": "https://localhost:8080/"
        },
        "outputId": "0902ac00-48c1-450c-db24-d9fadfa8608f"
      },
      "source": [
        "sicaklik = int(input('Sıcaklık (F) : '))\n",
        "hesap = ((5/9) * (sicaklik - 32))\n",
        "metin = \"Sıcaklık (C) : {} \"\n",
        "print(metin.format(hesap))\n",
        "\n"
      ],
      "execution_count": null,
      "outputs": [
        {
          "output_type": "stream",
          "name": "stdout",
          "text": [
            "Sıcaklık (F) : 26\n",
            "Sıcaklık (C) : -3.3333333333333335 \n"
          ]
        }
      ]
    },
    {
      "cell_type": "markdown",
      "metadata": {
        "id": "2D65xivjXmIp"
      },
      "source": [
        "**(4.)** Kullanıcıdan 3 rakamlı bir sayı alın ve bu üç rakamın toplamını döndürüen bir kod parçası yazın.\n",
        "\n",
        "    Kullanıcı --> \"Üç rakamlı bir sayı girin : \"365\n",
        "    Çıktı --> \"Sayıdaki rakamların toplamı :  14\""
      ]
    },
    {
      "cell_type": "code",
      "metadata": {
        "id": "Z9ova4LoXmIp",
        "colab": {
          "base_uri": "https://localhost:8080/"
        },
        "outputId": "4685021c-02f2-4021-c9ac-66a30be1d655"
      },
      "source": [
        "sayi = input(\"Üç rakamlı bir sayı girin: \")\n",
        "toplam = 0\n",
        "for rakam in sayi:\n",
        "  toplam += int(rakam)\n",
        " \n",
        "print(\"Sayıdaki rakamların toplamı:\",toplam)"
      ],
      "execution_count": null,
      "outputs": [
        {
          "output_type": "stream",
          "name": "stdout",
          "text": [
            "Üç rakamlı bir sayı girin: 365\n",
            "Sayıdaki rakamların toplamı: 14\n"
          ]
        }
      ]
    },
    {
      "cell_type": "markdown",
      "metadata": {
        "id": "-nfzDPnsXmIq"
      },
      "source": [
        "İkinci kenar uzunluğu :**(5)**  Bir dik üçgenin hipotenüs uzunluğunu hesaplayan bir kod parçası yazın. Dik kenarların uzunluğunu kullanıcıdan alın.\n",
        "           \n",
        "        Kullanıcı --> Birinci kenar uzunluğu : 6\n",
        "        Kullanıcı --> İkinci kenar uzunluğu : 8\n",
        "        Çıktı --> \"Hipotenüsün uzunluğu : 10\""
      ]
    },
    {
      "cell_type": "code",
      "metadata": {
        "id": "i4w-vkkFXmIq",
        "colab": {
          "base_uri": "https://localhost:8080/"
        },
        "outputId": "78222412-aac1-4a2c-8309-3d8547978f45"
      },
      "source": [
        "dik1 = int(input(\"Birinci kenar uzunluğu : \"))\n",
        "dik2 = int(input(\"İkinci kenar uzunluğu : \"))\n",
        "formul1 = (dik1)**2 + (dik2)**2\n",
        "\n",
        "import math\n",
        "\n",
        "formul2 = math.sqrt(formul1)\n",
        "cikti = \"Hipotenüsün uzunluğu : {} \"\n",
        "print(cikti.format(formul2))"
      ],
      "execution_count": null,
      "outputs": [
        {
          "output_type": "stream",
          "name": "stdout",
          "text": [
            "Birinci kenar uzunluğu : 6\n",
            "İkinci kenar uzunluğu : 8\n",
            "Hipotenüsün uzunluğu : 10.0 \n"
          ]
        }
      ]
    }
  ]
}